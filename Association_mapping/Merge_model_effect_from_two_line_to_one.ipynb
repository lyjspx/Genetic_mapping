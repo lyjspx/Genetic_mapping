{
 "cells": [
  {
   "cell_type": "code",
   "execution_count": 1,
   "metadata": {},
   "outputs": [],
   "source": [
    "line_container = list()\n",
    "with open(\"/Users/desert/OneDrive - North Dakota University System/Research/Spring Wheat FHB resistance manuscript/4th_June_2019/Fhb439_HSEVR_BLUE and BLUP_439na50Bi_K50_PC4_model_effect.txt\", \"r\") as f:\n",
    "    for line in f:\n",
    "        line_container.append(line.strip(\"\\n\"))"
   ]
  },
  {
   "cell_type": "code",
   "execution_count": 2,
   "metadata": {},
   "outputs": [
    {
     "data": {
      "text/plain": [
       "['Trait\\tMarker\\tLocus\\tSite\\tAllele\\tEffect\\tObs',\n",
       " 'HSEVR.blue1\\tS1A_804764\\t1A\\t804764\\tC\\t-9.832E-1\\t126',\n",
       " 'HSEVR.blue1\\tS1A_804764\\t1A\\t804764\\tT\\t0\\t311']"
      ]
     },
     "execution_count": 2,
     "metadata": {},
     "output_type": "execute_result"
    }
   ],
   "source": [
    "line_container[0:3]"
   ]
  },
  {
   "cell_type": "code",
   "execution_count": 3,
   "metadata": {},
   "outputs": [],
   "source": [
    "new_line_container = list()\n",
    "new_line_container.append(line_container[0])\n",
    "n=1\n",
    "while n < len(line_container):\n",
    "    new_line_container.append(line_container[n]+\"\\t\"+line_container[n+1])\n",
    "    n += 2\n",
    "    "
   ]
  },
  {
   "cell_type": "code",
   "execution_count": 4,
   "metadata": {},
   "outputs": [
    {
     "data": {
      "text/plain": [
       "['HSEVR.blue1\\tS1A_804764\\t1A\\t804764\\tC\\t-9.832E-1\\t126\\tHSEVR.blue1\\tS1A_804764\\t1A\\t804764\\tT\\t0\\t311',\n",
       " 'HSEVR.blue1\\tS1A_1089963\\t1A\\t1089963\\tA\\t-2.2177E0\\t356\\tHSEVR.blue1\\tS1A_1089963\\t1A\\t1089963\\tT\\t0\\t30']"
      ]
     },
     "execution_count": 4,
     "metadata": {},
     "output_type": "execute_result"
    }
   ],
   "source": [
    "new_line_container[1:3]"
   ]
  },
  {
   "cell_type": "code",
   "execution_count": 5,
   "metadata": {},
   "outputs": [
    {
     "data": {
      "text/plain": [
       "817201"
      ]
     },
     "execution_count": 5,
     "metadata": {},
     "output_type": "execute_result"
    }
   ],
   "source": [
    "len(new_line_container)"
   ]
  },
  {
   "cell_type": "code",
   "execution_count": 6,
   "metadata": {},
   "outputs": [],
   "source": [
    "with open(\"/Users/desert/OneDrive - North Dakota University System/Research/Spring Wheat FHB resistance manuscript/4th_June_2019/Blup_and_Blue_model_effect.txt\", \"w\") as wf:\n",
    "    for line in new_line_container:\n",
    "        wf.write(line + \"\\n\")"
   ]
  },
  {
   "cell_type": "code",
   "execution_count": null,
   "metadata": {
    "collapsed": true
   },
   "outputs": [],
   "source": []
  }
 ],
 "metadata": {
  "kernelspec": {
   "display_name": "Python 3",
   "language": "python",
   "name": "python3"
  },
  "language_info": {
   "codemirror_mode": {
    "name": "ipython",
    "version": 3
   },
   "file_extension": ".py",
   "mimetype": "text/x-python",
   "name": "python",
   "nbconvert_exporter": "python",
   "pygments_lexer": "ipython3",
   "version": "3.6.7"
  }
 },
 "nbformat": 4,
 "nbformat_minor": 2
}
